{
 "cells": [
  {
   "cell_type": "code",
   "execution_count": 42,
   "metadata": {},
   "outputs": [],
   "source": [
    "import os\n",
    "import vtk\n",
    "import numpy as np"
   ]
  },
  {
   "cell_type": "code",
   "execution_count": 43,
   "metadata": {},
   "outputs": [],
   "source": [
    "def calc_domain_size(stlBoundingBox):\n",
    "    stlMinX,stlMaxX,stlMinY,stlMaxY,stlMinZ,stlMaxZ= stlBoundingBox\n",
    "    bbX = stlMaxX - stlMinX\n",
    "    bbY = stlMaxY - stlMinY\n",
    "    bbZ = stlMaxZ - stlMinZ\n",
    "    minX = stlMinX - 2*bbX\n",
    "    maxX = stlMaxX + 7*bbX\n",
    "    minY = stlMinY - 3*bbY\n",
    "    maxY = stlMaxY + 3*bbY\n",
    "    minZ = stlMinZ - 5*bbZ\n",
    "    maxZ = stlMaxZ + 5*bbZ\n",
    "    domain_size = (minX,maxX,minY,maxY,minZ,maxZ)\n",
    "    return domain_size\n",
    "\n",
    "    "
   ]
  },
  {
   "cell_type": "code",
   "execution_count": 44,
   "metadata": {},
   "outputs": [],
   "source": [
    "# to calculate the max length of STL\n",
    "def getMaxSTLDim(stlBoundingBox):\n",
    "    stlMinX,stlMaxX,stlMinY,stlMaxY,stlMinZ,stlMaxZ= stlBoundingBox\n",
    "    bbX = stlMaxX - stlMinX\n",
    "    bbY = stlMaxY - stlMinY\n",
    "    bbZ = stlMaxZ - stlMinZ\n",
    "    return max(bbX,bbY,bbZ)"
   ]
  },
  {
   "cell_type": "code",
   "execution_count": 45,
   "metadata": {},
   "outputs": [],
   "source": [
    "# to calculate the min size of stl\n",
    "def getMinSTLDim(stlBoundingBox):\n",
    "    stlMinX,stlMaxX,stlMinY,stlMaxY,stlMinZ,stlMaxZ= stlBoundingBox\n",
    "    bbX = stlMaxX - stlMinX\n",
    "    bbY = stlMaxY - stlMinY\n",
    "    bbZ = stlMaxZ - stlMinZ\n",
    "    return min(bbX,bbY,bbZ)"
   ]
  },
  {
   "cell_type": "code",
   "execution_count": 46,
   "metadata": {},
   "outputs": [],
   "source": [
    "# to calculate nearest wall thickness for a target yPlus value\n",
    "def calc_y(fluid_properties,L=1.0,u=1.0,target_yPlus=200):\n",
    "    rho = fluid_properties['rho']\n",
    "    nu = fluid_properties['nu']\n",
    "    Re = u*L/nu\n",
    "    Cf = 0.0592*Re**(-1./5.)\n",
    "    tau = 0.5*rho*Cf*u**2.\n",
    "    uStar = np.sqrt(tau/rho)\n",
    "    y = target_yPlus*nu/uStar\n",
    "    return y"
   ]
  },
  {
   "cell_type": "code",
   "execution_count": 47,
   "metadata": {},
   "outputs": [],
   "source": [
    "fluid_properties = {'nu':1.0e-6,'rho':1.0e3}\n",
    "y = calc_y(fluid_properties,u=2)"
   ]
  },
  {
   "cell_type": "code",
   "execution_count": 48,
   "metadata": {},
   "outputs": [
    {
     "data": {
      "text/plain": [
       "0.002480031197374939"
      ]
     },
     "execution_count": 48,
     "metadata": {},
     "output_type": "execute_result"
    }
   ],
   "source": [
    "y"
   ]
  },
  {
   "cell_type": "code",
   "execution_count": 49,
   "metadata": {},
   "outputs": [],
   "source": [
    "# calculate nearest cell size for a given expansion ratio and layer count\n",
    "def calc_cell_size(y_=0.001,nLayers=5,expRatio=1.2,thicknessRatio=0.3):\n",
    "    max_y = y_*expRatio**(nLayers)\n",
    "    return max_y*thicknessRatio"
   ]
  },
  {
   "cell_type": "code",
   "execution_count": 50,
   "metadata": {},
   "outputs": [
    {
     "data": {
      "text/plain": [
       "0.0018513333687156018"
      ]
     },
     "execution_count": 50,
     "metadata": {},
     "output_type": "execute_result"
    }
   ],
   "source": [
    "calc_cell_size(y)"
   ]
  },
  {
   "cell_type": "code",
   "execution_count": 51,
   "metadata": {},
   "outputs": [],
   "source": [
    "def calc_refinement_levels(max_cell_size=0.1,target_cell_size=0.001):\n",
    "    size_ratio = max_cell_size / target_cell_size\n",
    "    n = np.log(size_ratio)/np.log(2.)\n",
    "    #print(n)\n",
    "    return int(np.ceil(n))\n"
   ]
  },
  {
   "cell_type": "code",
   "execution_count": 52,
   "metadata": {},
   "outputs": [
    {
     "data": {
      "text/plain": [
       "6"
      ]
     },
     "execution_count": 52,
     "metadata": {},
     "output_type": "execute_result"
    }
   ],
   "source": [
    "calc_refinement_levels(target_cell_size=0.00185)"
   ]
  },
  {
   "cell_type": "code",
   "execution_count": 53,
   "metadata": {},
   "outputs": [],
   "source": [
    "def calc_nx_ny_nz(domain_size,target_cell_size):\n",
    "    (minX,maxX,minY,maxY,minZ,maxZ) = domain_size\n",
    "    nx = (maxX-minX)/target_cell_size\n",
    "    ny = (maxY-minY)/target_cell_size\n",
    "    nz = (maxZ-minZ)/target_cell_size\n",
    "    nx, ny, nz = int(nx), int(ny), int(nz)\n",
    "    return (nx,ny,nz)"
   ]
  },
  {
   "cell_type": "code",
   "execution_count": 54,
   "metadata": {},
   "outputs": [
    {
     "data": {
      "text/plain": [
       "(4000, 100, 100)"
      ]
     },
     "execution_count": 54,
     "metadata": {},
     "output_type": "execute_result"
    }
   ],
   "source": [
    "domain_size = (0,40.0,-0.5,0.5,0,1)\n",
    "calc_nx_ny_nz(domain_size,target_cell_size=0.01)"
   ]
  },
  {
   "cell_type": "code",
   "execution_count": 55,
   "metadata": {},
   "outputs": [],
   "source": [
    "def set_mesh_settings(stlBoundingBox,fluid_properties,U=1.0,maxCellSize=0.1):\n",
    "    domain_size = calc_domain_size(stlBoundingBox=stlBoundingBox)\n",
    "    maxSTLLength = getMaxSTLDim(stlBoundingBox)\n",
    "    backgroundCellSize = min(maxSTLLength/4.,maxCellSize) # this is the size of largest blockMesh cells\n",
    "    nx,ny,nz = calc_nx_ny_nz(domain_size,backgroundCellSize)\n",
    "    L = maxSTLLength # this is the characteristic length to be used in Re calculations\n",
    "    target_y = calc_y(fluid_properties,L,U,target_yPlus=200) # this is the thickness of closest cell\n",
    "    targetCellSize = calc_cell_size(target_y,expRatio=1.3,thicknessRatio=0.4)\n",
    "    refLevel = calc_refinement_levels(backgroundCellSize,targetCellSize)\n",
    "\n",
    "    # print the summary of results\n",
    "    print(f\"Domain size {domain_size}\")\n",
    "    print(f\"Simple grading: {nx},{ny},{nz}\")\n",
    "    print(f\"Target Y:{target_y}\")\n",
    "    print(f\"Refinement Level:{refLevel}\")\n",
    "\n",
    "    "
   ]
  },
  {
   "cell_type": "code",
   "execution_count": 56,
   "metadata": {},
   "outputs": [
    {
     "name": "stdout",
     "output_type": "stream",
     "text": [
      "Domain size (-20, 80, -3, 4, -5, 6)\n",
      "Simple grading: 40,2,4\n",
      "Target Y:0.00582618324777173\n",
      "Refinement Level:9\n"
     ]
    }
   ],
   "source": [
    "stlBoundingBox = (0,10,0,1,0,1)\n",
    "set_mesh_settings(stlBoundingBox,fluid_properties,maxCellSize=10)"
   ]
  },
  {
   "cell_type": "code",
   "execution_count": 59,
   "metadata": {},
   "outputs": [],
   "source": [
    "# Function to read STL file and compute bounding box\n",
    "def compute_bounding_box(stl_file_path):\n",
    "    # Check if the file exists\n",
    "    if not os.path.exists(stl_file_path):\n",
    "        raise FileNotFoundError(f\"File not found: {stl_file_path}. Make sure the file exists.\")\n",
    "    # Create a reader for the STL file\n",
    "    reader = vtk.vtkSTLReader()\n",
    "    reader.SetFileName(stl_file_path)\n",
    "    reader.Update()\n",
    "\n",
    "    # Get the output data from the reader\n",
    "    poly_data = reader.GetOutput()\n",
    "    #print(poly_data)\n",
    "\n",
    "    # Calculate the bounding box\n",
    "    bounds = poly_data.GetBounds()\n",
    "    xmin, xmax, ymin, ymax, zmin, zmax = bounds\n",
    "\n",
    "    #print(\"Bounding Box:\")\n",
    "    #print(f\"  X range: {xmin} to {xmax}\")\n",
    "    #print(f\"  Y range: {ymin} to {ymax}\")\n",
    "    #print(f\"  Z range: {zmin} to {zmax}\")\n",
    "\n",
    "    # Optionally, return the bounding box as a tuple\n",
    "    return bounds"
   ]
  },
  {
   "cell_type": "code",
   "execution_count": 61,
   "metadata": {},
   "outputs": [
    {
     "name": "stdout",
     "output_type": "stream",
     "text": [
      "Bounding Box:\n",
      "  X range: -1.4500000476837158 to 0.5\n",
      "  Y range: -1.5 to 1.5\n",
      "  Z range: -3.0616171314629196e-17 to 2.5\n"
     ]
    }
   ],
   "source": [
    "bounds = compute_bounding_box(\"cad.stl\")"
   ]
  },
  {
   "cell_type": "code",
   "execution_count": 62,
   "metadata": {},
   "outputs": [
    {
     "data": {
      "text/plain": [
       "(-1.4500000476837158, 0.5, -1.5, 1.5, -3.0616171314629196e-17, 2.5)"
      ]
     },
     "execution_count": 62,
     "metadata": {},
     "output_type": "execute_result"
    }
   ],
   "source": [
    "bounds"
   ]
  },
  {
   "cell_type": "code",
   "execution_count": null,
   "metadata": {},
   "outputs": [],
   "source": []
  }
 ],
 "metadata": {
  "kernelspec": {
   "display_name": "Python 3",
   "language": "python",
   "name": "python3"
  },
  "language_info": {
   "codemirror_mode": {
    "name": "ipython",
    "version": 3
   },
   "file_extension": ".py",
   "mimetype": "text/x-python",
   "name": "python",
   "nbconvert_exporter": "python",
   "pygments_lexer": "ipython3",
   "version": "3.8.9"
  }
 },
 "nbformat": 4,
 "nbformat_minor": 2
}
